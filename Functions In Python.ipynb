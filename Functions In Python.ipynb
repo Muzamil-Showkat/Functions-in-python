{
 "cells": [
  {
   "cell_type": "code",
   "execution_count": 1,
   "id": "2b4d01b0",
   "metadata": {},
   "outputs": [
    {
     "data": {
      "text/plain": [
       "range(20, 31)"
      ]
     },
     "execution_count": 1,
     "metadata": {},
     "output_type": "execute_result"
    }
   ],
   "source": [
    "#function Range just creates elements\n",
    "range(20,31)      "
   ]
  },
  {
   "cell_type": "code",
   "execution_count": 2,
   "id": "44753be3",
   "metadata": {},
   "outputs": [
    {
     "data": {
      "text/plain": [
       "[20, 21, 22, 23, 24, 25, 26, 27, 28, 29, 30]"
      ]
     },
     "execution_count": 2,
     "metadata": {},
     "output_type": "execute_result"
    }
   ],
   "source": [
    "#list helps us view the elements generated\n",
    "list(range(20,31))"
   ]
  },
  {
   "cell_type": "code",
   "execution_count": 1,
   "id": "09cc900b",
   "metadata": {},
   "outputs": [],
   "source": [
    "#create an object to store the elements of the list\n",
    "mylist = list(range(20,31))"
   ]
  },
  {
   "cell_type": "code",
   "execution_count": 2,
   "id": "03c2d6bc",
   "metadata": {},
   "outputs": [
    {
     "data": {
      "text/plain": [
       "[20, 21, 22, 23, 24, 25, 26, 27, 28, 29, 30]"
      ]
     },
     "execution_count": 2,
     "metadata": {},
     "output_type": "execute_result"
    }
   ],
   "source": [
    "mylist"
   ]
  },
  {
   "cell_type": "code",
   "execution_count": 5,
   "id": "d789426c",
   "metadata": {},
   "outputs": [
    {
     "name": "stdout",
     "output_type": "stream",
     "text": [
      "[20, 21, 22, 23, 24, 25, 26, 27, 28, 29, 30]\n"
     ]
    }
   ],
   "source": [
    "#print function helps us to view elements of the object mylist\n",
    "print(mylist)"
   ]
  },
  {
   "cell_type": "code",
   "execution_count": 3,
   "id": "94deb84a",
   "metadata": {},
   "outputs": [
    {
     "data": {
      "text/plain": [
       "11"
      ]
     },
     "execution_count": 3,
     "metadata": {},
     "output_type": "execute_result"
    }
   ],
   "source": [
    "#len function gives the count of elements in the list\n",
    "len(mylist)"
   ]
  },
  {
   "cell_type": "code",
   "execution_count": 7,
   "id": "5783cce0",
   "metadata": {},
   "outputs": [
    {
     "data": {
      "text/plain": [
       "list"
      ]
     },
     "execution_count": 7,
     "metadata": {},
     "output_type": "execute_result"
    }
   ],
   "source": [
    "#type function helps us in identifying the object\n",
    "type(mylist)"
   ]
  },
  {
   "cell_type": "code",
   "execution_count": 4,
   "id": "154361e4",
   "metadata": {},
   "outputs": [
    {
     "data": {
      "text/plain": [
       "89"
      ]
     },
     "execution_count": 4,
     "metadata": {},
     "output_type": "execute_result"
    }
   ],
   "source": [
    "#max function gives us the maximum value in a list\n",
    "max(11,89,45,77)"
   ]
  },
  {
   "cell_type": "code",
   "execution_count": 9,
   "id": "4f361d84",
   "metadata": {},
   "outputs": [
    {
     "data": {
      "text/plain": [
       "12"
      ]
     },
     "execution_count": 9,
     "metadata": {},
     "output_type": "execute_result"
    }
   ],
   "source": [
    "#min function gives us the smallest number in a list\n",
    "min(30,22,89,56,12)"
   ]
  },
  {
   "cell_type": "markdown",
   "id": "b5490e86",
   "metadata": {},
   "source": [
    "## Functions in Python"
   ]
  },
  {
   "cell_type": "markdown",
   "id": "baab1eee",
   "metadata": {},
   "source": [
    "## A function in python executes a given set of code everytime it is called. It starts with a 'def' keyword. \n",
    "## Parameters : A parameter is a named entity in a function definition, specifying an argument that the function can accept.\n",
    "## Arguments: Values inputted to satisfy the required parameters"
   ]
  },
  {
   "cell_type": "code",
   "execution_count": 1,
   "id": "7c82fb90",
   "metadata": {},
   "outputs": [
    {
     "name": "stdout",
     "output_type": "stream",
     "text": [
      "3 4 5\n"
     ]
    }
   ],
   "source": [
    "def add_numbers(a, b, c):\n",
    "    \n",
    "    \n",
    "    m = a + b\n",
    "    n = b + c\n",
    "    p = a + c\n",
    "    print(m, n, p)\n",
    "\n",
    "add_numbers(2, 1, 3)  #by just giving the function name we can call a function.if there are 3 parameters mentioned\n",
    "                      #we also HAVE to give 3 arguments"
   ]
  },
  {
   "cell_type": "code",
   "execution_count": 6,
   "id": "7b876512",
   "metadata": {},
   "outputs": [
    {
     "ename": "TypeError",
     "evalue": "add_numbers() missing 1 required positional argument: 'c'",
     "output_type": "error",
     "traceback": [
      "\u001b[1;31m---------------------------------------------------------------------------\u001b[0m",
      "\u001b[1;31mTypeError\u001b[0m                                 Traceback (most recent call last)",
      "\u001b[1;32m<ipython-input-6-a66feb2e8259>\u001b[0m in \u001b[0;36m<module>\u001b[1;34m\u001b[0m\n\u001b[0;32m      5\u001b[0m     \u001b[0mprint\u001b[0m\u001b[1;33m(\u001b[0m\u001b[0mm\u001b[0m\u001b[1;33m,\u001b[0m \u001b[0mn\u001b[0m\u001b[1;33m,\u001b[0m \u001b[0mp\u001b[0m\u001b[1;33m)\u001b[0m\u001b[1;33m\u001b[0m\u001b[1;33m\u001b[0m\u001b[0m\n\u001b[0;32m      6\u001b[0m \u001b[1;33m\u001b[0m\u001b[0m\n\u001b[1;32m----> 7\u001b[1;33m \u001b[0madd_numbers\u001b[0m\u001b[1;33m(\u001b[0m\u001b[1;36m2\u001b[0m\u001b[1;33m,\u001b[0m \u001b[1;36m1\u001b[0m\u001b[1;33m)\u001b[0m\u001b[1;33m\u001b[0m\u001b[1;33m\u001b[0m\u001b[0m\n\u001b[0m",
      "\u001b[1;31mTypeError\u001b[0m: add_numbers() missing 1 required positional argument: 'c'"
     ]
    }
   ],
   "source": [
    "def add_numbers(a, b, c):\n",
    "    m = a + b\n",
    "    n = b + c\n",
    "    p = a + c\n",
    "    print(m, n, p)\n",
    "\n",
    "add_numbers(2, 1)"
   ]
  },
  {
   "cell_type": "code",
   "execution_count": 1,
   "id": "69dcda99",
   "metadata": {},
   "outputs": [
    {
     "name": "stdout",
     "output_type": "stream",
     "text": [
      "We are learning functions\n"
     ]
    }
   ],
   "source": [
    "def todays_function():\n",
    "    print(\"We are learning functions\")\n",
    "\n",
    "todays_function()"
   ]
  },
  {
   "cell_type": "markdown",
   "id": "f9247e07",
   "metadata": {},
   "source": [
    "## Info can be passed into a function telling the function the job to be done,and is referred to as Arguments"
   ]
  },
  {
   "cell_type": "code",
   "execution_count": 3,
   "id": "21a84a8b",
   "metadata": {},
   "outputs": [
    {
     "name": "stdout",
     "output_type": "stream",
     "text": [
      "Java session\n"
     ]
    }
   ],
   "source": [
    "def second_function(lgname):\n",
    "    print(lgname + \" session\")\n",
    "second_function(\"Java\")"
   ]
  },
  {
   "cell_type": "code",
   "execution_count": 4,
   "id": "4ca33b41",
   "metadata": {},
   "outputs": [
    {
     "name": "stdout",
     "output_type": "stream",
     "text": [
      "Python session\n"
     ]
    }
   ],
   "source": [
    "second_function(\"Python\")"
   ]
  },
  {
   "cell_type": "code",
   "execution_count": 5,
   "id": "ab216bfc",
   "metadata": {},
   "outputs": [
    {
     "name": "stdout",
     "output_type": "stream",
     "text": [
      "SAS session\n"
     ]
    }
   ],
   "source": [
    "second_function(\"SAS\")"
   ]
  },
  {
   "cell_type": "code",
   "execution_count": 6,
   "id": "01b8d7bd",
   "metadata": {},
   "outputs": [
    {
     "name": "stdout",
     "output_type": "stream",
     "text": [
      "Bread Butter\n"
     ]
    }
   ],
   "source": [
    "def third_function(assp1,assp2):\n",
    "    print(assp1 +\" \" + assp2)\n",
    "third_function(\"Bread\",\"Butter\")"
   ]
  },
  {
   "cell_type": "code",
   "execution_count": 7,
   "id": "55031246",
   "metadata": {},
   "outputs": [
    {
     "name": "stdout",
     "output_type": "stream",
     "text": [
      "Toothbrush Toothpaste\n"
     ]
    }
   ],
   "source": [
    "third_function(\"Toothbrush\",\"Toothpaste\")"
   ]
  },
  {
   "cell_type": "markdown",
   "id": "a17dcf45",
   "metadata": {},
   "source": [
    "## If the number of parameters are not exactly known,we add a * before the parameter name"
   ]
  },
  {
   "cell_type": "code",
   "execution_count": 7,
   "id": "9618948f",
   "metadata": {},
   "outputs": [],
   "source": [
    "def associted_products(*oral):\n",
    "    print(\"The most popular item is \" + oral[8])\n",
    "#associted_products(\"MouthWash\",\"DentalFloss\",\"Toothbrush\",\"Mint\",\"Toothpaste\")"
   ]
  },
  {
   "cell_type": "code",
   "execution_count": 8,
   "id": "9d82a8f7",
   "metadata": {},
   "outputs": [
    {
     "name": "stdout",
     "output_type": "stream",
     "text": [
      "The most popular item is ear\n"
     ]
    }
   ],
   "source": [
    "associted_products(\"mint\",\"floss\",\"brush\",\"paste\",\"abc\",\"ghf\",\"pub\",\"man\",\"ear\",\"leg\",\"tree\",\"eye\")"
   ]
  },
  {
   "cell_type": "markdown",
   "id": "2392d501",
   "metadata": {},
   "source": [
    "## Deafult parameter value- if in case we call the function without specifying the parameter value,it will return the default value back"
   ]
  },
  {
   "cell_type": "code",
   "execution_count": 11,
   "id": "4d98ab89",
   "metadata": {},
   "outputs": [],
   "source": [
    "def fourth_function(snack=\"chocolate\"):\n",
    "    print(\"My favorite snack is \" + snack)"
   ]
  },
  {
   "cell_type": "code",
   "execution_count": 12,
   "id": "9e0efa36",
   "metadata": {},
   "outputs": [
    {
     "name": "stdout",
     "output_type": "stream",
     "text": [
      "My favorite snack is vada pav\n"
     ]
    }
   ],
   "source": [
    "fourth_function(\"vada pav\")"
   ]
  },
  {
   "cell_type": "code",
   "execution_count": 13,
   "id": "540a2617",
   "metadata": {},
   "outputs": [
    {
     "name": "stdout",
     "output_type": "stream",
     "text": [
      "My favorite snack is Girmit\n"
     ]
    }
   ],
   "source": [
    "fourth_function(\"Girmit\")"
   ]
  },
  {
   "cell_type": "code",
   "execution_count": 14,
   "id": "918bd338",
   "metadata": {},
   "outputs": [
    {
     "name": "stdout",
     "output_type": "stream",
     "text": [
      "My favorite snack is chocolate\n"
     ]
    }
   ],
   "source": [
    "fourth_function()"
   ]
  },
  {
   "cell_type": "code",
   "execution_count": 17,
   "id": "59d3d1ed",
   "metadata": {},
   "outputs": [],
   "source": [
    "#Passing an entire list as an argument\n",
    "\n",
    "def fifth_function(eatable):\n",
    "    for x in eatable:\n",
    "        print(x)\n",
    "food = [\"Vada Pav\",\"Tacos\",\"Rolls\"]"
   ]
  },
  {
   "cell_type": "code",
   "execution_count": 18,
   "id": "e8da2c5a",
   "metadata": {},
   "outputs": [
    {
     "name": "stdout",
     "output_type": "stream",
     "text": [
      "Vada Pav\n",
      "Tacos\n",
      "Rolls\n"
     ]
    }
   ],
   "source": [
    "fifth_function(food)"
   ]
  },
  {
   "cell_type": "markdown",
   "id": "b5792c0a",
   "metadata": {},
   "source": [
    "## We usually have a return statement in a function to return a value"
   ]
  },
  {
   "cell_type": "code",
   "execution_count": 19,
   "id": "dd85cb16",
   "metadata": {},
   "outputs": [],
   "source": [
    "def sixth_function(x):\n",
    "    return 10*x\n"
   ]
  },
  {
   "cell_type": "code",
   "execution_count": 20,
   "id": "1a8e5dd5",
   "metadata": {},
   "outputs": [
    {
     "data": {
      "text/plain": [
       "70"
      ]
     },
     "execution_count": 20,
     "metadata": {},
     "output_type": "execute_result"
    }
   ],
   "source": [
    " sixth_function(7)"
   ]
  },
  {
   "cell_type": "code",
   "execution_count": 21,
   "id": "91c031e9",
   "metadata": {},
   "outputs": [
    {
     "data": {
      "text/plain": [
       "60"
      ]
     },
     "execution_count": 21,
     "metadata": {},
     "output_type": "execute_result"
    }
   ],
   "source": [
    " sixth_function(6)"
   ]
  },
  {
   "cell_type": "markdown",
   "id": "20b754c1",
   "metadata": {},
   "source": [
    "## functions definitions are never empty,but if we do not give the actions which the function is supposed to perform,we will put the pass statement to avoid an error"
   ]
  },
  {
   "cell_type": "code",
   "execution_count": 22,
   "id": "bf7606b4",
   "metadata": {},
   "outputs": [],
   "source": [
    "def seventh_function():\n",
    "    pass"
   ]
  },
  {
   "cell_type": "code",
   "execution_count": 24,
   "id": "3ca3c664",
   "metadata": {},
   "outputs": [],
   "source": [
    "seventh_function()"
   ]
  },
  {
   "cell_type": "markdown",
   "id": "5bb0b519",
   "metadata": {},
   "source": [
    "## When we have multiple parameters within a python function,we also have to give it multiple arguments. Arguments can be specified after the function name,inside a parentheses."
   ]
  },
  {
   "cell_type": "markdown",
   "id": "e45036ed",
   "metadata": {},
   "source": [
    "### Positional Argument"
   ]
  },
  {
   "cell_type": "code",
   "execution_count": 26,
   "id": "2a384f19",
   "metadata": {},
   "outputs": [
    {
     "name": "stdout",
     "output_type": "stream",
     "text": [
      "Hi,Bit Madhu!\n"
     ]
    }
   ],
   "source": [
    "def welcome(first_name,last_name):\n",
    "    print(f\"Hi,{first_name} {last_name}!\")  #f-string is a string used for expressions within curly braces\n",
    "    \n",
    "#order of the parameters are taken into consideration\n",
    "welcome(\"Bit\",\"Madhu\")\n",
    "        "
   ]
  },
  {
   "cell_type": "markdown",
   "id": "842ca10b",
   "metadata": {},
   "source": [
    "### Keyword Arguments: the order in which we give the arguments while calling the function does not matter"
   ]
  },
  {
   "cell_type": "code",
   "execution_count": 27,
   "id": "89e79fc1",
   "metadata": {},
   "outputs": [
    {
     "name": "stdout",
     "output_type": "stream",
     "text": [
      "Hi,Madhu Parna!\n"
     ]
    }
   ],
   "source": [
    "def welcome(first_name,last_name):\n",
    "    print(f\"Hi,{first_name} {last_name}!\")  #f-string is a string used for expressions within curly braces\n",
    "    \n",
    "#order of the parameters are taken into consideration\n",
    "welcome(last_name=\"Parna\",first_name=\"Madhu\")"
   ]
  },
  {
   "cell_type": "code",
   "execution_count": 9,
   "id": "20392cdb",
   "metadata": {},
   "outputs": [
    {
     "name": "stdout",
     "output_type": "stream",
     "text": [
      "Hi,parna madhu!\n"
     ]
    }
   ],
   "source": [
    "def welcome(first_name,last_name):\n",
    "    print(f\"Hi,{first_name} {last_name}!\")\n",
    "    \n",
    "welcome(first_name=\"parna\",last_name=\"madhu\")"
   ]
  },
  {
   "cell_type": "markdown",
   "id": "4cfe2e40",
   "metadata": {},
   "source": [
    "### In python, the function definition should always be present before the function call. Otherwise, we will get an error. "
   ]
  },
  {
   "cell_type": "code",
   "execution_count": 10,
   "id": "a35a1625",
   "metadata": {},
   "outputs": [
    {
     "ename": "NameError",
     "evalue": "name 'greet' is not defined",
     "output_type": "error",
     "traceback": [
      "\u001b[1;31m---------------------------------------------------------------------------\u001b[0m",
      "\u001b[1;31mNameError\u001b[0m                                 Traceback (most recent call last)",
      "\u001b[1;32m<ipython-input-10-afd5ed3c0c64>\u001b[0m in \u001b[0;36m<module>\u001b[1;34m\u001b[0m\n\u001b[1;32m----> 1\u001b[1;33m \u001b[0mgreet\u001b[0m\u001b[1;33m(\u001b[0m\u001b[0mlast_name\u001b[0m\u001b[1;33m=\u001b[0m\u001b[1;34m\"Parna\"\u001b[0m\u001b[1;33m,\u001b[0m\u001b[0mfirst_name\u001b[0m\u001b[1;33m=\u001b[0m\u001b[1;34m\"Madhu\"\u001b[0m\u001b[1;33m)\u001b[0m\u001b[1;33m\u001b[0m\u001b[1;33m\u001b[0m\u001b[0m\n\u001b[0m\u001b[0;32m      2\u001b[0m \u001b[1;33m\u001b[0m\u001b[0m\n\u001b[0;32m      3\u001b[0m \u001b[1;32mdef\u001b[0m \u001b[0mgreet\u001b[0m\u001b[1;33m(\u001b[0m\u001b[0mfirst_name\u001b[0m\u001b[1;33m,\u001b[0m\u001b[0mlast_name\u001b[0m\u001b[1;33m)\u001b[0m\u001b[1;33m:\u001b[0m\u001b[1;33m\u001b[0m\u001b[1;33m\u001b[0m\u001b[0m\n\u001b[0;32m      4\u001b[0m     \u001b[0mprint\u001b[0m\u001b[1;33m(\u001b[0m\u001b[1;34mf\"Hi,{first_name} {last_name}!\"\u001b[0m\u001b[1;33m)\u001b[0m\u001b[1;33m\u001b[0m\u001b[1;33m\u001b[0m\u001b[0m\n\u001b[0;32m      5\u001b[0m \u001b[1;33m\u001b[0m\u001b[0m\n",
      "\u001b[1;31mNameError\u001b[0m: name 'greet' is not defined"
     ]
    }
   ],
   "source": [
    "greet(last_name=\"Parna\",first_name=\"Madhu\")\n",
    "\n",
    "def greet(first_name,last_name):\n",
    "    print(f\"Hi,{first_name} {last_name}!\")  \n",
    "    \n"
   ]
  },
  {
   "cell_type": "code",
   "execution_count": 11,
   "id": "7d55e469",
   "metadata": {},
   "outputs": [],
   "source": [
    "def associted_products(*anything):\n",
    "    print(\"The most popular item is \" + anything[9])"
   ]
  },
  {
   "cell_type": "code",
   "execution_count": 12,
   "id": "b1b48337",
   "metadata": {},
   "outputs": [
    {
     "name": "stdout",
     "output_type": "stream",
     "text": [
      "The most popular item is that\n"
     ]
    }
   ],
   "source": [
    "associted_products('all','is','not','fine','in','here','you','know',90,'that')"
   ]
  },
  {
   "cell_type": "code",
   "execution_count": null,
   "id": "1f72c312",
   "metadata": {},
   "outputs": [],
   "source": []
  }
 ],
 "metadata": {
  "kernelspec": {
   "display_name": "Python 3",
   "language": "python",
   "name": "python3"
  },
  "language_info": {
   "codemirror_mode": {
    "name": "ipython",
    "version": 3
   },
   "file_extension": ".py",
   "mimetype": "text/x-python",
   "name": "python",
   "nbconvert_exporter": "python",
   "pygments_lexer": "ipython3",
   "version": "3.8.8"
  }
 },
 "nbformat": 4,
 "nbformat_minor": 5
}
